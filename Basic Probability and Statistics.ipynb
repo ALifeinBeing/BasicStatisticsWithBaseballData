{
 "cells": [
  {
   "cell_type": "code",
   "execution_count": 1,
   "metadata": {
    "collapsed": false
   },
   "outputs": [],
   "source": [
    "import pandas as pd\n",
    "import numpy as np\n",
    "from os import listdir\n",
    "from os.path import isfile, join\n",
    "import matplotlib.pyplot as plt\n",
    "\n",
    "%matplotlib inline"
   ]
  },
  {
   "cell_type": "code",
   "execution_count": 2,
   "metadata": {
    "collapsed": true
   },
   "outputs": [],
   "source": [
    "#This folder holds the 30 .EVE files from Retrosheet\n",
    "mypath = \"C:\\\\Users\\\\Kane.Merrill\\\\Documents\\\\BTS_SQL\\\\2015eve\\\\\"\n",
    "onlyfiles = [f for f in listdir(mypath) if isfile(join(mypath, f))]"
   ]
  },
  {
   "cell_type": "code",
   "execution_count": 3,
   "metadata": {
    "collapsed": true
   },
   "outputs": [],
   "source": [
    "''' this function takes a list of file names, appends them to the hardcoded path, then reads the file line by line. Since the different \n",
    "lines in the file are of different 'lengths' we can't read directly into a pandas dataframe. This keeps track of the date, starttime,\n",
    "hometeam and awayteam which are contained on separate rows before the 'play' rows of the respective game and appends that information\n",
    "onto the beginning of each play record, and then creates a separate dataframe for each file of the play records which is either turned\n",
    "into the main dataframe or appended to the main dataframe depending on if it is the first file read\n",
    "'''\n",
    "\n",
    "def create_table(lst,count = 0):\n",
    "    for file in lst:\n",
    "        path = \"C:\\\\Users\\\\Kane.Merrill\\\\Documents\\\\BTS_SQL\\\\2015eve\\\\\" + file\n",
    "\n",
    "        data = [line.rstrip('\\n') for line in open(path)]\n",
    "\n",
    "        large_list = []\n",
    "        date = None\n",
    "        starttime = None\n",
    "        hometeam = None\n",
    "        awayteam = None\n",
    "\n",
    "        for datum in data:\n",
    "            if datum[5:9] == \"date\":\n",
    "                date = datum[10:25]\n",
    "\n",
    "            elif datum[5:14] == \"starttime\":\n",
    "                starttime = datum[15:25]\n",
    "\n",
    "            elif datum[5:12] == \"visteam\":\n",
    "                awayteam = datum[13:17]\n",
    "\n",
    "            elif datum[5:13] == \"hometeam\":\n",
    "                hometeam = datum[14:17]  \n",
    "\n",
    "            elif datum[0:4] == \"play\":\n",
    "                lst = [date,starttime,hometeam,awayteam]\n",
    "\n",
    "                for item in datum.split(\",\"):\n",
    "                    lst.append(item)\n",
    "\n",
    "                large_list.append(lst)\n",
    "\n",
    "        df = pd.DataFrame(large_list,columns=[\"date\",\"starttime\",\"hometeam\",\"awayteam\",\\\n",
    "                            \"type_of_row\",\"inning\",\"home\",\"id_code\",\"pitch_count\",\"pitches\",\\\n",
    "                                                 \"play_result\"])\n",
    "        if count == 0:\n",
    "            full_table = df.copy(deep=True)\n",
    "            count +=1\n",
    "        else:\n",
    "            full_table = full_table.append(df)\n",
    "            count +=1\n",
    "    \n",
    "    return full_table"
   ]
  },
  {
   "cell_type": "code",
   "execution_count": 4,
   "metadata": {
    "collapsed": false
   },
   "outputs": [],
   "source": [
    "''' The first character in the play result column will be an S/D/T/H if the play was a hit (single, double, triple or home run\n",
    "respectively)'''\n",
    "def hits(x):\n",
    "    if x[0] in [\"S\",\"D\",\"T\",\"H\"] and \"/\" in x:\n",
    "        return 1\n",
    "    else:\n",
    "        return 0"
   ]
  },
  {
   "cell_type": "code",
   "execution_count": 5,
   "metadata": {
    "collapsed": false
   },
   "outputs": [],
   "source": [
    "full_table = create_table(onlyfiles)\n",
    "\n",
    "del full_table[\"type_of_row\"]\n",
    "full_table = full_table.reset_index(drop = True)"
   ]
  },
  {
   "cell_type": "code",
   "execution_count": 6,
   "metadata": {
    "collapsed": true
   },
   "outputs": [],
   "source": [
    "full_table[\"hit\"] = full_table.play_result.map(hits)"
   ]
  },
  {
   "cell_type": "code",
   "execution_count": 7,
   "metadata": {
    "collapsed": false
   },
   "outputs": [
    {
     "name": "stdout",
     "output_type": "stream",
     "text": [
      "112\n"
     ]
    },
    {
     "data": {
      "text/plain": [
       "217412"
      ]
     },
     "execution_count": 7,
     "metadata": {},
     "output_type": "execute_result"
    }
   ],
   "source": [
    "#should equal 112 and 217,412\n",
    "#it is crucial to always have a reference point when manipulating data, I have checked the hit totals from the data frame against the\n",
    "#MLB stated totals and with the exception of Albert Pujols showing 148 hits in my data vs 147 for MLB every player I checked matched\n",
    "#I would prefer to have it match perfectly but in my experience that is often unrealistic when comparing data from two different sources\n",
    "#especially when it is impossible to track the respective data back to the source as it is here\n",
    "\n",
    "print(full_table[\"hit\"][full_table[\"id_code\"] == \"canhm001\"].sum())\n",
    "\n",
    "len(full_table)"
   ]
  },
  {
   "cell_type": "code",
   "execution_count": 8,
   "metadata": {
    "collapsed": false
   },
   "outputs": [],
   "source": [
    "#this creates a team column that holds the team of the batter for that row\n",
    "full_table[\"team\"] = np.where(full_table[\"home\"] == \"1\",full_table[\"hometeam\"],\\\n",
    "                             full_table[\"awayteam\"])"
   ]
  },
  {
   "cell_type": "code",
   "execution_count": 9,
   "metadata": {
    "collapsed": false
   },
   "outputs": [],
   "source": [
    "\"\"\"this runs through each team once, creates a dataframe with each row being a distinct combination of date and starttime of games\n",
    "and then creates a game number column. This dataframe is then combined with all other game number dataframes and then joined to the\n",
    "main dataframe so that each row also contains a column that tells the game number of the year for that batter\"\"\"\n",
    "count = 0\n",
    "\n",
    "for val in set(full_table[\"team\"].values):    \n",
    "    game_number = pd.DataFrame(full_table[[\"date\",\"starttime\",\"team\"]]\\\n",
    "                               [full_table[\"team\"] == val])\n",
    "\n",
    "    game_number.drop_duplicates(inplace=True)\n",
    "\n",
    "    game_number = game_number.reset_index(drop=True)\n",
    "\n",
    "    game_number[\"game_number\"] = game_number.index + 1\n",
    "\n",
    "    game_number = game_number.set_index(keys=[\"date\",\"starttime\",\"team\"])\n",
    "    \n",
    "    if count == 0:\n",
    "        new_table = game_number.copy(deep=True)\n",
    "        count +=1\n",
    "    \n",
    "    else:\n",
    "        new_table = new_table.append(game_number)"
   ]
  },
  {
   "cell_type": "code",
   "execution_count": 10,
   "metadata": {
    "collapsed": false
   },
   "outputs": [
    {
     "data": {
      "text/plain": [
       "30"
      ]
     },
     "execution_count": 10,
     "metadata": {},
     "output_type": "execute_result"
    }
   ],
   "source": [
    "#this should equal 30\n",
    "len(set((full_table[\"team\"].values)))"
   ]
  },
  {
   "cell_type": "code",
   "execution_count": 11,
   "metadata": {
    "collapsed": false
   },
   "outputs": [],
   "source": [
    "full_table = full_table.join(new_table, on = [\"date\",\"starttime\",\"team\"])\n",
    "#at this point we now have a data frame that contains a row for each at bat in the 2015 MLB season along with some basic colums"
   ]
  },
  {
   "cell_type": "code",
   "execution_count": 15,
   "metadata": {
    "collapsed": false
   },
   "outputs": [
    {
     "data": {
      "text/html": [
       "<div>\n",
       "<table border=\"1\" class=\"dataframe\">\n",
       "  <thead>\n",
       "    <tr style=\"text-align: right;\">\n",
       "      <th></th>\n",
       "      <th>date</th>\n",
       "      <th>starttime</th>\n",
       "      <th>hometeam</th>\n",
       "      <th>awayteam</th>\n",
       "      <th>inning</th>\n",
       "      <th>home</th>\n",
       "      <th>id_code</th>\n",
       "      <th>pitch_count</th>\n",
       "      <th>pitches</th>\n",
       "      <th>play_result</th>\n",
       "      <th>hit</th>\n",
       "      <th>team</th>\n",
       "      <th>game_number</th>\n",
       "    </tr>\n",
       "  </thead>\n",
       "  <tbody>\n",
       "    <tr>\n",
       "      <th>0</th>\n",
       "      <td>2015/04/10</td>\n",
       "      <td>7:12PM</td>\n",
       "      <td>ANA</td>\n",
       "      <td>KCA</td>\n",
       "      <td>1</td>\n",
       "      <td>0</td>\n",
       "      <td>escoa003</td>\n",
       "      <td>22</td>\n",
       "      <td>FSBFBX</td>\n",
       "      <td>63/G</td>\n",
       "      <td>0</td>\n",
       "      <td>KCA</td>\n",
       "      <td>1</td>\n",
       "    </tr>\n",
       "    <tr>\n",
       "      <th>1</th>\n",
       "      <td>2015/04/10</td>\n",
       "      <td>7:12PM</td>\n",
       "      <td>ANA</td>\n",
       "      <td>KCA</td>\n",
       "      <td>1</td>\n",
       "      <td>0</td>\n",
       "      <td>mousm001</td>\n",
       "      <td>00</td>\n",
       "      <td>X</td>\n",
       "      <td>6/P</td>\n",
       "      <td>0</td>\n",
       "      <td>KCA</td>\n",
       "      <td>1</td>\n",
       "    </tr>\n",
       "    <tr>\n",
       "      <th>2</th>\n",
       "      <td>2015/04/10</td>\n",
       "      <td>7:12PM</td>\n",
       "      <td>ANA</td>\n",
       "      <td>KCA</td>\n",
       "      <td>1</td>\n",
       "      <td>0</td>\n",
       "      <td>cainl001</td>\n",
       "      <td>10</td>\n",
       "      <td>BX</td>\n",
       "      <td>D8/L+</td>\n",
       "      <td>1</td>\n",
       "      <td>KCA</td>\n",
       "      <td>1</td>\n",
       "    </tr>\n",
       "    <tr>\n",
       "      <th>3</th>\n",
       "      <td>2015/04/10</td>\n",
       "      <td>7:12PM</td>\n",
       "      <td>ANA</td>\n",
       "      <td>KCA</td>\n",
       "      <td>1</td>\n",
       "      <td>0</td>\n",
       "      <td>hosme001</td>\n",
       "      <td>22</td>\n",
       "      <td>CBFFB&gt;X</td>\n",
       "      <td>S9/G.2-H</td>\n",
       "      <td>1</td>\n",
       "      <td>KCA</td>\n",
       "      <td>1</td>\n",
       "    </tr>\n",
       "    <tr>\n",
       "      <th>4</th>\n",
       "      <td>2015/04/10</td>\n",
       "      <td>7:12PM</td>\n",
       "      <td>ANA</td>\n",
       "      <td>KCA</td>\n",
       "      <td>1</td>\n",
       "      <td>0</td>\n",
       "      <td>morak001</td>\n",
       "      <td>22</td>\n",
       "      <td>FBBFX</td>\n",
       "      <td>S7/L+.1-2</td>\n",
       "      <td>1</td>\n",
       "      <td>KCA</td>\n",
       "      <td>1</td>\n",
       "    </tr>\n",
       "  </tbody>\n",
       "</table>\n",
       "</div>"
      ],
      "text/plain": [
       "         date starttime hometeam awayteam inning home   id_code pitch_count  \\\n",
       "0  2015/04/10    7:12PM      ANA      KCA      1    0  escoa003          22   \n",
       "1  2015/04/10    7:12PM      ANA      KCA      1    0  mousm001          00   \n",
       "2  2015/04/10    7:12PM      ANA      KCA      1    0  cainl001          10   \n",
       "3  2015/04/10    7:12PM      ANA      KCA      1    0  hosme001          22   \n",
       "4  2015/04/10    7:12PM      ANA      KCA      1    0  morak001          22   \n",
       "\n",
       "   pitches play_result  hit team  game_number  \n",
       "0   FSBFBX        63/G    0  KCA            1  \n",
       "1        X         6/P    0  KCA            1  \n",
       "2       BX       D8/L+    1  KCA            1  \n",
       "3  CBFFB>X    S9/G.2-H    1  KCA            1  \n",
       "4    FBBFX   S7/L+.1-2    1  KCA            1  "
      ]
     },
     "execution_count": 15,
     "metadata": {},
     "output_type": "execute_result"
    }
   ],
   "source": [
    "full_table.head()"
   ]
  },
  {
   "cell_type": "markdown",
   "metadata": {},
   "source": [
    "<b> Basic Probability and Terminology</b>"
   ]
  },
  {
   "cell_type": "code",
   "execution_count": 50,
   "metadata": {
    "collapsed": false
   },
   "outputs": [],
   "source": [
    "#to use some of the basic topics from the class to explore our baseball data I am first going to create\n",
    "#a table that has the number of at bats, the number of hits and thn will add in hits per at bat\n",
    "\n",
    "basic_player_table = pd.DataFrame(full_table.groupby('id_code')[\"hit\"].agg(['count',np.sum]))\n",
    "basic_player_table[\"hits_per_at_bat\"] = basic_player_table[\"sum\"]/basic_player_table[\"count\"]\n",
    "basic_player_table.columns = [\"at_bats\",\"hits\",\"hits_per_at_bat\"]\n",
    "\n",
    "#I dont want the id_code to be my index so I have to reset it\n",
    "basic_player_table.reset_index(inplace=True)"
   ]
  },
  {
   "cell_type": "code",
   "execution_count": 54,
   "metadata": {
    "collapsed": false
   },
   "outputs": [
    {
     "data": {
      "text/plain": [
       "<matplotlib.axes._subplots.AxesSubplot at 0x228642d4898>"
      ]
     },
     "execution_count": 54,
     "metadata": {},
     "output_type": "execute_result"
    },
    {
     "data": {
      "image/png": "[encoded data removed]",
      "text/plain": [
       "<matplotlib.figure.Figure at 0x22863ce4898>"
      ]
     },
     "metadata": {},
     "output_type": "display_data"
    }
   ],
   "source": [
    "basic_player_table[\"at_bats\"].hist(bins=20)"
   ]
  },
  {
   "cell_type": "code",
   "execution_count": 80,
   "metadata": {
    "collapsed": false
   },
   "outputs": [
    {
     "name": "stdout",
     "output_type": "stream",
     "text": [
      "     at_bats  id_code    cumsum\n",
      "129      151        1  0.344304\n",
      "409\n"
     ]
    }
   ],
   "source": [
    "#there are a lot of players with fewer than 100 at bats that I believe should be elimiated from the analysis\n",
    "#this dataframe shows the percentage of players with more at bats for each number of at bats\n",
    "\n",
    "at_bats = pd.DataFrame(basic_player_table.groupby('at_bats')[\"id_code\"].count())\n",
    "at_bats.reset_index(inplace=True)\n",
    "at_bats[\"cumsum\"] = 1 -at_bats.id_code.cumsum()/at_bats.id_code.sum()\n",
    "\n",
    "print(at_bats[at_bats[\"at_bats\"]==151])\n",
    "print(at_bats[\"id_code\"][at_bats[\"at_bats\"]>=151].sum())"
   ]
  },
  {
   "cell_type": "code",
   "execution_count": 83,
   "metadata": {
    "collapsed": false
   },
   "outputs": [],
   "source": [
    "#this leaves us with 409 players awho represent 34% of all players who had a major league appearance in 2015\n",
    "#I will limit the data set to just these players\n",
    "basic_player_table = pd.DataFrame(basic_player_table[basic_player_table[\"at_bats\"]>=151])\n",
    "basic_player_table.reset_index(inplace=True,drop=True)"
   ]
  },
  {
   "cell_type": "code",
   "execution_count": 84,
   "metadata": {
    "collapsed": false
   },
   "outputs": [
    {
     "data": {
      "text/html": [
       "<div>\n",
       "<table border=\"1\" class=\"dataframe\">\n",
       "  <thead>\n",
       "    <tr style=\"text-align: right;\">\n",
       "      <th></th>\n",
       "      <th>id_code</th>\n",
       "      <th>at_bats</th>\n",
       "      <th>hits</th>\n",
       "      <th>hits_per_at_bat</th>\n",
       "    </tr>\n",
       "  </thead>\n",
       "  <tbody>\n",
       "    <tr>\n",
       "      <th>0</th>\n",
       "      <td>abrej003</td>\n",
       "      <td>778</td>\n",
       "      <td>178</td>\n",
       "      <td>0.228792</td>\n",
       "    </tr>\n",
       "    <tr>\n",
       "      <th>1</th>\n",
       "      <td>ackld001</td>\n",
       "      <td>323</td>\n",
       "      <td>55</td>\n",
       "      <td>0.170279</td>\n",
       "    </tr>\n",
       "    <tr>\n",
       "      <th>2</th>\n",
       "      <td>adamm002</td>\n",
       "      <td>212</td>\n",
       "      <td>42</td>\n",
       "      <td>0.198113</td>\n",
       "    </tr>\n",
       "    <tr>\n",
       "      <th>3</th>\n",
       "      <td>adrie001</td>\n",
       "      <td>159</td>\n",
       "      <td>22</td>\n",
       "      <td>0.138365</td>\n",
       "    </tr>\n",
       "    <tr>\n",
       "      <th>4</th>\n",
       "      <td>ahmen001</td>\n",
       "      <td>550</td>\n",
       "      <td>97</td>\n",
       "      <td>0.176364</td>\n",
       "    </tr>\n",
       "  </tbody>\n",
       "</table>\n",
       "</div>"
      ],
      "text/plain": [
       "    id_code  at_bats  hits  hits_per_at_bat\n",
       "0  abrej003      778   178         0.228792\n",
       "1  ackld001      323    55         0.170279\n",
       "2  adamm002      212    42         0.198113\n",
       "3  adrie001      159    22         0.138365\n",
       "4  ahmen001      550    97         0.176364"
      ]
     },
     "execution_count": 84,
     "metadata": {},
     "output_type": "execute_result"
    }
   ],
   "source": [
    "basic_player_table.head()"
   ]
  },
  {
   "cell_type": "code",
   "execution_count": 90,
   "metadata": {
    "collapsed": false
   },
   "outputs": [
    {
     "data": {
      "text/plain": [
       "count    409.000000\n",
       "mean      96.760391\n",
       "std       46.606733\n",
       "min       21.000000\n",
       "25%       54.000000\n",
       "50%       95.000000\n",
       "75%      136.000000\n",
       "max      206.000000\n",
       "Name: hits, dtype: float64"
      ]
     },
     "execution_count": 90,
     "metadata": {},
     "output_type": "execute_result"
    }
   ],
   "source": [
    "# a large number of the basic statistical measures described in the first part of the class are avaiable with\n",
    "#the 'describe' method\n",
    "basic_player_table[\"hits\"].describe()"
   ]
  },
  {
   "cell_type": "code",
   "execution_count": 94,
   "metadata": {
    "collapsed": false
   },
   "outputs": [
    {
     "data": {
      "text/plain": [
       "0.4816716039632421"
      ]
     },
     "execution_count": 94,
     "metadata": {},
     "output_type": "execute_result"
    }
   ],
   "source": [
    "#co-efficienty of variation tells us the standard deviation in terms of the mean\n",
    "basic_player_table[\"hits\"].std() / basic_player_table[\"hits\"].mean()"
   ]
  },
  {
   "cell_type": "code",
   "execution_count": 95,
   "metadata": {
    "collapsed": false
   },
   "outputs": [
    {
     "data": {
      "text/plain": [
       "<matplotlib.axes._subplots.AxesSubplot at 0x22863ac8f60>"
      ]
     },
     "execution_count": 95,
     "metadata": {},
     "output_type": "execute_result"
    },
    {
     "data": {
      "image/png": "[encoded data removed]",
      "text/plain": [
       "<matplotlib.figure.Figure at 0x22863acd048>"
      ]
     },
     "metadata": {},
     "output_type": "display_data"
    }
   ],
   "source": [
    "#the high inter-quartile range relative to the mean and the high co-efficent of variation tell us the \n",
    "#number of hits varies greatly amongst players, the histogram of this data backs this up\n",
    "basic_player_table[\"hits\"].hist()"
   ]
  },
  {
   "cell_type": "code",
   "execution_count": 96,
   "metadata": {
    "collapsed": false
   },
   "outputs": [
    {
     "data": {
      "text/plain": [
       "count    409.000000\n",
       "mean       0.198586\n",
       "std        0.028937\n",
       "min        0.114130\n",
       "25%        0.179551\n",
       "50%        0.200793\n",
       "75%        0.219807\n",
       "max        0.275064\n",
       "Name: hits_per_at_bat, dtype: float64"
      ]
     },
     "execution_count": 96,
     "metadata": {},
     "output_type": "execute_result"
    }
   ],
   "source": [
    "#hits per at bat likely varies less and will provide more meaningful data for analysis since hits is naturally\n",
    "#going to vary by the number of at bats by player which we saw earlier varies within this data set from 150\n",
    "#to over 800\n",
    "basic_player_table[\"hits_per_at_bat\"].describe()"
   ]
  },
  {
   "cell_type": "code",
   "execution_count": 97,
   "metadata": {
    "collapsed": false
   },
   "outputs": [
    {
     "data": {
      "text/plain": [
       "0.14571587592162477"
      ]
     },
     "execution_count": 97,
     "metadata": {},
     "output_type": "execute_result"
    }
   ],
   "source": [
    "#this variation is significantly lower than the 48% result we saw for hits, since this data is essentially\n",
    "#normalized by the number of at bats\n",
    "basic_player_table[\"hits_per_at_bat\"].std() / basic_player_table[\"hits_per_at_bat\"].mean()"
   ]
  },
  {
   "cell_type": "code",
   "execution_count": 98,
   "metadata": {
    "collapsed": false
   },
   "outputs": [
    {
     "data": {
      "text/plain": [
       "<matplotlib.axes._subplots.AxesSubplot at 0x22863aa5d30>"
      ]
     },
     "execution_count": 98,
     "metadata": {},
     "output_type": "execute_result"
    },
    {
     "data": {
      "image/png": "[encoded data removed]",
      "text/plain": [
       "<matplotlib.figure.Figure at 0x22863dca9b0>"
      ]
     },
     "metadata": {},
     "output_type": "display_data"
    }
   ],
   "source": [
    "#this is not a perfect normal distribution due to some left skew but it is fairly close, we can see this in \n",
    "#the histogram below but it was also evident from above when we saw that the mean was lower than the median\n",
    "basic_player_table[\"hits_per_at_bat\"].hist()"
   ]
  },
  {
   "cell_type": "markdown",
   "metadata": {},
   "source": [
    "<b> Binomial Distribution</b>"
   ]
  },
  {
   "cell_type": "code",
   "execution_count": 174,
   "metadata": {
    "collapsed": false
   },
   "outputs": [],
   "source": [
    "#for the time being we will assume that there are 4 at bats per game by player and use the binomial\n",
    "#distribution to understand the expected number of hits per game by players with different hits per at bat\n",
    "#we want the probability of 1 or more hits which is 1 - the pmf of 0 hits\n",
    "from scipy.stats import binom"
   ]
  },
  {
   "cell_type": "code",
   "execution_count": 166,
   "metadata": {
    "collapsed": false
   },
   "outputs": [
    {
     "data": {
      "text/plain": [
       "[<matplotlib.lines.Line2D at 0x22863443c88>]"
      ]
     },
     "execution_count": 166,
     "metadata": {},
     "output_type": "execute_result"
    },
    {
     "data": {
      "image/png": "[encoded data removed]",
      "text/plain": [
       "<matplotlib.figure.Figure at 0x228633e7048>"
      ]
     },
     "metadata": {},
     "output_type": "display_data"
    }
   ],
   "source": [
    "#It is useful to plot how the likelyhood of getting a hit changes as the hits per at bat increases, it is \n",
    "#slightly different from a linear relationshop\n",
    "\n",
    "\n",
    "x = []\n",
    "y = []\n",
    "\n",
    "for i in np.arange(basic_player_table[\"hits_per_at_bat\"].min(),\n",
    "                   basic_player_table[\"hits_per_at_bat\"].max()+.01,\n",
    "                   .01):\n",
    "    prob = 1 - binom.pmf(0,4,i)\n",
    "    x.append(i)\n",
    "    y.append(prob)\n",
    "\n",
    "plt.plot(x,y)"
   ]
  },
  {
   "cell_type": "code",
   "execution_count": 173,
   "metadata": {
    "collapsed": false
   },
   "outputs": [
    {
     "data": {
      "text/plain": [
       "0.50212864000000001"
      ]
     },
     "execution_count": 173,
     "metadata": {},
     "output_type": "execute_result"
    }
   ],
   "source": [
    "1 - binom.pmf(0,4,.16)"
   ]
  },
  {
   "cell_type": "code",
   "execution_count": 176,
   "metadata": {
    "collapsed": false
   },
   "outputs": [
    {
     "data": {
      "text/plain": [
       "368"
      ]
     },
     "execution_count": 176,
     "metadata": {},
     "output_type": "execute_result"
    }
   ],
   "source": [
    "#at a hits per at bat of .16 there is a 50% chance of getting at least one hit in 4 at bats\n",
    "len(basic_player_table[basic_player_table[\"hits_per_at_bat\"]>=.16])"
   ]
  },
  {
   "cell_type": "code",
   "execution_count": 242,
   "metadata": {
    "collapsed": true
   },
   "outputs": [],
   "source": [
    "player_mask = pd.DataFrame(basic_player_table[basic_player_table[\"hits_per_at_bat\"]>=.16])"
   ]
  },
  {
   "cell_type": "code",
   "execution_count": 243,
   "metadata": {
    "collapsed": false
   },
   "outputs": [
    {
     "data": {
      "text/html": [
       "<div>\n",
       "<table border=\"1\" class=\"dataframe\">\n",
       "  <thead>\n",
       "    <tr style=\"text-align: right;\">\n",
       "      <th></th>\n",
       "      <th>id_code</th>\n",
       "      <th>at_bats</th>\n",
       "      <th>hits</th>\n",
       "      <th>hits_per_at_bat</th>\n",
       "    </tr>\n",
       "  </thead>\n",
       "  <tbody>\n",
       "    <tr>\n",
       "      <th>0</th>\n",
       "      <td>abrej003</td>\n",
       "      <td>778</td>\n",
       "      <td>178</td>\n",
       "      <td>0.228792</td>\n",
       "    </tr>\n",
       "    <tr>\n",
       "      <th>1</th>\n",
       "      <td>ackld001</td>\n",
       "      <td>323</td>\n",
       "      <td>55</td>\n",
       "      <td>0.170279</td>\n",
       "    </tr>\n",
       "    <tr>\n",
       "      <th>2</th>\n",
       "      <td>adamm002</td>\n",
       "      <td>212</td>\n",
       "      <td>42</td>\n",
       "      <td>0.198113</td>\n",
       "    </tr>\n",
       "    <tr>\n",
       "      <th>4</th>\n",
       "      <td>ahmen001</td>\n",
       "      <td>550</td>\n",
       "      <td>97</td>\n",
       "      <td>0.176364</td>\n",
       "    </tr>\n",
       "    <tr>\n",
       "      <th>5</th>\n",
       "      <td>almoa001</td>\n",
       "      <td>287</td>\n",
       "      <td>58</td>\n",
       "      <td>0.202091</td>\n",
       "    </tr>\n",
       "  </tbody>\n",
       "</table>\n",
       "</div>"
      ],
      "text/plain": [
       "    id_code  at_bats  hits  hits_per_at_bat\n",
       "0  abrej003      778   178         0.228792\n",
       "1  ackld001      323    55         0.170279\n",
       "2  adamm002      212    42         0.198113\n",
       "4  ahmen001      550    97         0.176364\n",
       "5  almoa001      287    58         0.202091"
      ]
     },
     "execution_count": 243,
     "metadata": {},
     "output_type": "execute_result"
    }
   ],
   "source": [
    "player_mask.head()"
   ]
  },
  {
   "cell_type": "code",
   "execution_count": 186,
   "metadata": {
    "collapsed": false
   },
   "outputs": [],
   "source": [
    "#the problem is that 4 is not a realistic number of at bats per game, it will vary by player but for now\n",
    "#lets just assume it is equal and get the distribution\n"
   ]
  },
  {
   "cell_type": "code",
   "execution_count": 246,
   "metadata": {
    "collapsed": false
   },
   "outputs": [],
   "source": [
    "masked_full_table = pd.merge(full_table,player_mask,how='right')"
   ]
  },
  {
   "cell_type": "code",
   "execution_count": 248,
   "metadata": {
    "collapsed": false
   },
   "outputs": [
    {
     "data": {
      "text/plain": [
       "368"
      ]
     },
     "execution_count": 248,
     "metadata": {},
     "output_type": "execute_result"
    }
   ],
   "source": [
    "#should equal 368 if this has been done correclty\n",
    "len(set(masked_full_table.id_code.values))"
   ]
  },
  {
   "cell_type": "code",
   "execution_count": 258,
   "metadata": {
    "collapsed": true
   },
   "outputs": [],
   "source": [
    "at_bats_per_game = pd.DataFrame(masked_full_table.groupby(['id_code','game_number'])[\"hit\"].count())"
   ]
  },
  {
   "cell_type": "code",
   "execution_count": 259,
   "metadata": {
    "collapsed": false
   },
   "outputs": [],
   "source": [
    "data = pd.DataFrame(at_bats_per_game.hit.value_counts()/len(at_bats_per_game.hit))"
   ]
  },
  {
   "cell_type": "code",
   "execution_count": 260,
   "metadata": {
    "collapsed": false
   },
   "outputs": [],
   "source": [
    "at_bat_proportions = pd.DataFrame(at_bats_per_game.hit.value_counts(normalize=True,sort=False))"
   ]
  },
  {
   "cell_type": "code",
   "execution_count": 261,
   "metadata": {
    "collapsed": false
   },
   "outputs": [
    {
     "data": {
      "text/html": [
       "<div>\n",
       "<table border=\"1\" class=\"dataframe\">\n",
       "  <thead>\n",
       "    <tr style=\"text-align: right;\">\n",
       "      <th></th>\n",
       "      <th>hit</th>\n",
       "    </tr>\n",
       "  </thead>\n",
       "  <tbody>\n",
       "    <tr>\n",
       "      <th>1</th>\n",
       "      <td>0.082071</td>\n",
       "    </tr>\n",
       "    <tr>\n",
       "      <th>2</th>\n",
       "      <td>0.025584</td>\n",
       "    </tr>\n",
       "    <tr>\n",
       "      <th>3</th>\n",
       "      <td>0.083542</td>\n",
       "    </tr>\n",
       "    <tr>\n",
       "      <th>4</th>\n",
       "      <td>0.330638</td>\n",
       "    </tr>\n",
       "    <tr>\n",
       "      <th>5</th>\n",
       "      <td>0.262363</td>\n",
       "    </tr>\n",
       "  </tbody>\n",
       "</table>\n",
       "</div>"
      ],
      "text/plain": [
       "        hit\n",
       "1  0.082071\n",
       "2  0.025584\n",
       "3  0.083542\n",
       "4  0.330638\n",
       "5  0.262363"
      ]
     },
     "execution_count": 261,
     "metadata": {},
     "output_type": "execute_result"
    }
   ],
   "source": [
    "at_bat_proportions.head()"
   ]
  },
  {
   "cell_type": "code",
   "execution_count": 262,
   "metadata": {
    "collapsed": false
   },
   "outputs": [
    {
     "data": {
      "text/plain": [
       "<matplotlib.axes._subplots.AxesSubplot at 0x228635d5d68>"
      ]
     },
     "execution_count": 262,
     "metadata": {},
     "output_type": "execute_result"
    },
    {
     "data": {
      "image/png": "[encoded data removed]",
      "text/plain": [
       "<matplotlib.figure.Figure at 0x228635d77b8>"
      ]
     },
     "metadata": {},
     "output_type": "display_data"
    }
   ],
   "source": [
    "at_bat_proportions.plot(kind='bar')"
   ]
  },
  {
   "cell_type": "code",
   "execution_count": 263,
   "metadata": {
    "collapsed": false
   },
   "outputs": [],
   "source": [
    "#we will lump everything above 10 into 10 for the simplisities sake\n",
    "at_bat_proportions.hit.ix[10] = at_bat_proportions.hit.ix[10:].sum()"
   ]
  },
  {
   "cell_type": "code",
   "execution_count": 264,
   "metadata": {
    "collapsed": false
   },
   "outputs": [
    {
     "data": {
      "text/plain": [
       "0.0095819242268293872"
      ]
     },
     "execution_count": 264,
     "metadata": {},
     "output_type": "execute_result"
    }
   ],
   "source": [
    "at_bat_proportions.hit.ix[10]"
   ]
  },
  {
   "cell_type": "code",
   "execution_count": 265,
   "metadata": {
    "collapsed": true
   },
   "outputs": [],
   "source": [
    "at_bat_proportions = at_bat_proportions[:10]"
   ]
  },
  {
   "cell_type": "code",
   "execution_count": 266,
   "metadata": {
    "collapsed": false
   },
   "outputs": [
    {
     "data": {
      "text/plain": [
       "0.082071264029799543"
      ]
     },
     "execution_count": 266,
     "metadata": {},
     "output_type": "execute_result"
    }
   ],
   "source": [
    "at_bat_proportions.hit.ix[1]"
   ]
  },
  {
   "cell_type": "code",
   "execution_count": 267,
   "metadata": {
    "collapsed": false
   },
   "outputs": [
    {
     "data": {
      "text/plain": [
       "[<matplotlib.lines.Line2D at 0x22863244828>]"
      ]
     },
     "execution_count": 267,
     "metadata": {},
     "output_type": "execute_result"
    },
    {
     "data": {
      "image/png": "[encoded data removed]",
      "text/plain": [
       "<matplotlib.figure.Figure at 0x22863579e80>"
      ]
     },
     "metadata": {},
     "output_type": "display_data"
    }
   ],
   "source": [
    "#now that we have the at bat proportions for all players, we can use it to get a prob a hit in any given \n",
    "#game using the various hits per at bat --THIS IS CLEARLY WRONG SINCE WE ARE INCLUDING PLAYERS WITH FEWER\n",
    "#than 150 at bats\n",
    "\n",
    "#It is useful to plot how the likelyhood of getting a hit changes as the hits per at bat increases, it is \n",
    "#slightly different from a linear relationshop\n",
    "\n",
    "\n",
    "x = []\n",
    "y = []\n",
    "\n",
    "for i in np.arange(basic_player_table[\"hits_per_at_bat\"].min(),\n",
    "                   basic_player_table[\"hits_per_at_bat\"].max()+.01,\n",
    "                   .01):\n",
    "    prob = 0\n",
    "    for j in range(1,11):\n",
    "        prob = prob + ((1 - binom.pmf(0,j,i)) * at_bat_proportions.ix[j])\n",
    "    x.append(i)\n",
    "    y.append(prob)\n",
    "\n",
    "plt.plot(x,y)\n",
    "\n"
   ]
  },
  {
   "cell_type": "code",
   "execution_count": 278,
   "metadata": {
    "collapsed": false
   },
   "outputs": [
    {
     "data": {
      "text/plain": [
       "0.50070994628466547"
      ]
     },
     "execution_count": 278,
     "metadata": {},
     "output_type": "execute_result"
    }
   ],
   "source": [
    "#we are back to needing a .17 probability of a hit per at bat to have a better than .5 chance of getting a \n",
    "#hit in a game\n",
    "\n",
    "prob = 0\n",
    "for j in range(1,11):\n",
    "    prob = prob + ((1 - binom.cdf(0,j,.151)) * at_bat_proportions.hit.ix[j])\n",
    "prob"
   ]
  },
  {
   "cell_type": "markdown",
   "metadata": {},
   "source": [
    "The next question is whether or not players streak, or are there more anomolous games of many hits than \n",
    "would be expected. If so, we can start to examine those games for what might be different"
   ]
  },
  {
   "cell_type": "code",
   "execution_count": 283,
   "metadata": {
    "collapsed": false
   },
   "outputs": [],
   "source": [
    "good_player_table = pd.DataFrame(masked_full_table.groupby(['id_code','game_number'])[\"hit\"].\\\n",
    "                                 agg(['count',np.sum]))\n",
    "good_player_table.reset_index(inplace=True)"
   ]
  },
  {
   "cell_type": "code",
   "execution_count": 299,
   "metadata": {
    "collapsed": false
   },
   "outputs": [
    {
     "data": {
      "text/html": [
       "<div>\n",
       "<table border=\"1\" class=\"dataframe\">\n",
       "  <thead>\n",
       "    <tr style=\"text-align: right;\">\n",
       "      <th></th>\n",
       "      <th>id_code</th>\n",
       "      <th>game_number</th>\n",
       "      <th>count</th>\n",
       "      <th>sum</th>\n",
       "      <th>at_bats</th>\n",
       "      <th>hits</th>\n",
       "      <th>hits_per_at_bat</th>\n",
       "      <th>likelihood</th>\n",
       "    </tr>\n",
       "  </thead>\n",
       "  <tbody>\n",
       "    <tr>\n",
       "      <th>0</th>\n",
       "      <td>abrej003</td>\n",
       "      <td>1</td>\n",
       "      <td>4</td>\n",
       "      <td>0</td>\n",
       "      <td>778</td>\n",
       "      <td>178</td>\n",
       "      <td>0.228792</td>\n",
       "      <td>0.353742</td>\n",
       "    </tr>\n",
       "    <tr>\n",
       "      <th>1</th>\n",
       "      <td>abrej003</td>\n",
       "      <td>2</td>\n",
       "      <td>4</td>\n",
       "      <td>3</td>\n",
       "      <td>778</td>\n",
       "      <td>178</td>\n",
       "      <td>0.228792</td>\n",
       "      <td>0.036945</td>\n",
       "    </tr>\n",
       "    <tr>\n",
       "      <th>2</th>\n",
       "      <td>abrej003</td>\n",
       "      <td>3</td>\n",
       "      <td>4</td>\n",
       "      <td>0</td>\n",
       "      <td>778</td>\n",
       "      <td>178</td>\n",
       "      <td>0.228792</td>\n",
       "      <td>0.353742</td>\n",
       "    </tr>\n",
       "    <tr>\n",
       "      <th>3</th>\n",
       "      <td>abrej003</td>\n",
       "      <td>4</td>\n",
       "      <td>8</td>\n",
       "      <td>1</td>\n",
       "      <td>778</td>\n",
       "      <td>178</td>\n",
       "      <td>0.228792</td>\n",
       "      <td>0.296983</td>\n",
       "    </tr>\n",
       "    <tr>\n",
       "      <th>4</th>\n",
       "      <td>abrej003</td>\n",
       "      <td>5</td>\n",
       "      <td>4</td>\n",
       "      <td>0</td>\n",
       "      <td>778</td>\n",
       "      <td>178</td>\n",
       "      <td>0.228792</td>\n",
       "      <td>0.353742</td>\n",
       "    </tr>\n",
       "  </tbody>\n",
       "</table>\n",
       "</div>"
      ],
      "text/plain": [
       "    id_code  game_number  count  sum  at_bats  hits  hits_per_at_bat  \\\n",
       "0  abrej003            1      4    0      778   178         0.228792   \n",
       "1  abrej003            2      4    3      778   178         0.228792   \n",
       "2  abrej003            3      4    0      778   178         0.228792   \n",
       "3  abrej003            4      8    1      778   178         0.228792   \n",
       "4  abrej003            5      4    0      778   178         0.228792   \n",
       "\n",
       "   likelihood  \n",
       "0    0.353742  \n",
       "1    0.036945  \n",
       "2    0.353742  \n",
       "3    0.296983  \n",
       "4    0.353742  "
      ]
     },
     "execution_count": 299,
     "metadata": {},
     "output_type": "execute_result"
    }
   ],
   "source": [
    "good_player_table.head()"
   ]
  },
  {
   "cell_type": "code",
   "execution_count": 285,
   "metadata": {
    "collapsed": false
   },
   "outputs": [],
   "source": [
    "good_player_table = pd.merge(good_player_table,player_mask)"
   ]
  },
  {
   "cell_type": "code",
   "execution_count": 298,
   "metadata": {
    "collapsed": false
   },
   "outputs": [],
   "source": [
    "good_player_table[\"likelihood\"] = binom.pmf(good_player_table[\"sum\"],\\\n",
    "                    good_player_table[\"count\"],good_player_table[\"hits_per_at_bat\"])"
   ]
  },
  {
   "cell_type": "code",
   "execution_count": 302,
   "metadata": {
    "collapsed": false
   },
   "outputs": [
    {
     "data": {
      "text/plain": [
       "<matplotlib.axes._subplots.AxesSubplot at 0x22863271ba8>"
      ]
     },
     "execution_count": 302,
     "metadata": {},
     "output_type": "execute_result"
    },
    {
     "data": {
      "image/png": "[encoded data removed]",
      "text/plain": [
       "<matplotlib.figure.Figure at 0x228633030f0>"
      ]
     },
     "metadata": {},
     "output_type": "display_data"
    }
   ],
   "source": [
    "good_player_table.likelihood.hist(bins=25)"
   ]
  },
  {
   "cell_type": "code",
   "execution_count": 316,
   "metadata": {
    "collapsed": false
   },
   "outputs": [
    {
     "data": {
      "text/html": [
       "<div>\n",
       "<table border=\"1\" class=\"dataframe\">\n",
       "  <thead>\n",
       "    <tr style=\"text-align: right;\">\n",
       "      <th></th>\n",
       "      <th>hits_per_at_bat</th>\n",
       "      <th>at_bats</th>\n",
       "    </tr>\n",
       "  </thead>\n",
       "  <tbody>\n",
       "    <tr>\n",
       "      <th>hits_per_at_bat</th>\n",
       "      <td>1.000000</td>\n",
       "      <td>0.278648</td>\n",
       "    </tr>\n",
       "    <tr>\n",
       "      <th>at_bats</th>\n",
       "      <td>0.278648</td>\n",
       "      <td>1.000000</td>\n",
       "    </tr>\n",
       "  </tbody>\n",
       "</table>\n",
       "</div>"
      ],
      "text/plain": [
       "                 hits_per_at_bat   at_bats\n",
       "hits_per_at_bat         1.000000  0.278648\n",
       "at_bats                 0.278648  1.000000"
      ]
     },
     "execution_count": 316,
     "metadata": {},
     "output_type": "execute_result"
    }
   ],
   "source": [
    "good_player_table_two[[\"hits_per_at_bat\",\"at_bats\"]].corr()"
   ]
  },
  {
   "cell_type": "code",
   "execution_count": 311,
   "metadata": {
    "collapsed": true
   },
   "outputs": [],
   "source": [
    "good_player_table_two = pd.DataFrame(good_player_table[[\"id_code\",\"hits\",\"at_bats\",\"hits_per_at_bat\"]])"
   ]
  },
  {
   "cell_type": "code",
   "execution_count": 313,
   "metadata": {
    "collapsed": true
   },
   "outputs": [],
   "source": [
    "good_player_table_two.drop_duplicates(inplace=True)"
   ]
  },
  {
   "cell_type": "code",
   "execution_count": 318,
   "metadata": {
    "collapsed": false
   },
   "outputs": [
    {
     "data": {
      "text/html": [
       "<div>\n",
       "<table border=\"1\" class=\"dataframe\">\n",
       "  <thead>\n",
       "    <tr style=\"text-align: right;\">\n",
       "      <th></th>\n",
       "      <th>id_code</th>\n",
       "      <th>game_number</th>\n",
       "      <th>count</th>\n",
       "      <th>sum</th>\n",
       "      <th>at_bats</th>\n",
       "      <th>hits</th>\n",
       "      <th>hits_per_at_bat</th>\n",
       "      <th>likelihood</th>\n",
       "    </tr>\n",
       "  </thead>\n",
       "  <tbody>\n",
       "    <tr>\n",
       "      <th>0</th>\n",
       "      <td>abrej003</td>\n",
       "      <td>1</td>\n",
       "      <td>4</td>\n",
       "      <td>0</td>\n",
       "      <td>778</td>\n",
       "      <td>178</td>\n",
       "      <td>0.228792</td>\n",
       "      <td>0.353742</td>\n",
       "    </tr>\n",
       "    <tr>\n",
       "      <th>1</th>\n",
       "      <td>abrej003</td>\n",
       "      <td>2</td>\n",
       "      <td>4</td>\n",
       "      <td>3</td>\n",
       "      <td>778</td>\n",
       "      <td>178</td>\n",
       "      <td>0.228792</td>\n",
       "      <td>0.036945</td>\n",
       "    </tr>\n",
       "    <tr>\n",
       "      <th>2</th>\n",
       "      <td>abrej003</td>\n",
       "      <td>3</td>\n",
       "      <td>4</td>\n",
       "      <td>0</td>\n",
       "      <td>778</td>\n",
       "      <td>178</td>\n",
       "      <td>0.228792</td>\n",
       "      <td>0.353742</td>\n",
       "    </tr>\n",
       "    <tr>\n",
       "      <th>3</th>\n",
       "      <td>abrej003</td>\n",
       "      <td>4</td>\n",
       "      <td>8</td>\n",
       "      <td>1</td>\n",
       "      <td>778</td>\n",
       "      <td>178</td>\n",
       "      <td>0.228792</td>\n",
       "      <td>0.296983</td>\n",
       "    </tr>\n",
       "    <tr>\n",
       "      <th>4</th>\n",
       "      <td>abrej003</td>\n",
       "      <td>5</td>\n",
       "      <td>4</td>\n",
       "      <td>0</td>\n",
       "      <td>778</td>\n",
       "      <td>178</td>\n",
       "      <td>0.228792</td>\n",
       "      <td>0.353742</td>\n",
       "    </tr>\n",
       "  </tbody>\n",
       "</table>\n",
       "</div>"
      ],
      "text/plain": [
       "    id_code  game_number  count  sum  at_bats  hits  hits_per_at_bat  \\\n",
       "0  abrej003            1      4    0      778   178         0.228792   \n",
       "1  abrej003            2      4    3      778   178         0.228792   \n",
       "2  abrej003            3      4    0      778   178         0.228792   \n",
       "3  abrej003            4      8    1      778   178         0.228792   \n",
       "4  abrej003            5      4    0      778   178         0.228792   \n",
       "\n",
       "   likelihood  \n",
       "0    0.353742  \n",
       "1    0.036945  \n",
       "2    0.353742  \n",
       "3    0.296983  \n",
       "4    0.353742  "
      ]
     },
     "execution_count": 318,
     "metadata": {},
     "output_type": "execute_result"
    }
   ],
   "source": [
    "good_player_table.head()"
   ]
  },
  {
   "cell_type": "code",
   "execution_count": 325,
   "metadata": {
    "collapsed": false
   },
   "outputs": [
    {
     "data": {
      "text/plain": [
       "0.034904627854103365"
      ]
     },
     "execution_count": 325,
     "metadata": {},
     "output_type": "execute_result"
    }
   ],
   "source": [
    "good_player_table[\"sum\"].autocorr(lag=4)"
   ]
  },
  {
   "cell_type": "code",
   "execution_count": 328,
   "metadata": {
    "collapsed": false
   },
   "outputs": [
    {
     "name": "stdout",
     "output_type": "stream",
     "text": [
      "gillc002 0.195339805825\n",
      "pillk001 0.19812979602\n",
      "ozunm001 0.163487410456\n",
      "trumm001 0.243959803293\n",
      "longe001 0.223840227642\n",
      "tomay001 0.164661168745\n",
      "utlec001 0.159532540579\n",
      "ruppc001 0.184561874221\n",
      "aokin001 0.192242473639\n",
      "santd001 0.198316396093\n",
      "tuckp001 0.156806799699\n",
      "gomey001 0.159603969562\n",
      "owinc001 0.157652877722\n",
      "byrdm001 0.326137426769\n",
      "martk001 0.340682947344\n",
      "thomt002 0.272830003854\n",
      "odorr001 0.158488089713\n",
      "parej002 0.225724020443\n",
      "bradj001 0.213291766379\n",
      "santd002 0.159744612766\n",
      "buxtb001 0.314988896565\n",
      "sprig001 0.289432789084\n",
      "schoj001 0.307734969347\n",
      "guyeb001 0.205208537302\n",
      "kipnj001 0.310273429427\n",
      "cespy001 0.181145398575\n",
      "parrg001 0.189872509365\n",
      "reveb001 0.165861960203\n",
      "polag001 0.159420289855\n",
      "piscs001 0.180534695104\n",
      "fowld001 0.161236885699\n",
      "bettm001 0.272876892693\n",
      "phamt001 0.274432379072\n",
      "navad001 0.20534016448\n"
     ]
    }
   ],
   "source": [
    "for i in set(good_player_table[\"id_code\"]):\n",
    "    if(good_player_table[good_player_table[\"id_code\"]==i][\"sum\"].autocorr(lag=1) > .15):\n",
    "        print(i,good_player_table[good_player_table[\"id_code\"]==i][\"sum\"].autocorr(lag=1))"
   ]
  },
  {
   "cell_type": "code",
   "execution_count": 330,
   "metadata": {
    "collapsed": false
   },
   "outputs": [
    {
     "data": {
      "text/html": [
       "<div>\n",
       "<table border=\"1\" class=\"dataframe\">\n",
       "  <thead>\n",
       "    <tr style=\"text-align: right;\">\n",
       "      <th></th>\n",
       "      <th>id_code</th>\n",
       "      <th>hits</th>\n",
       "      <th>at_bats</th>\n",
       "      <th>hits_per_at_bat</th>\n",
       "    </tr>\n",
       "  </thead>\n",
       "  <tbody>\n",
       "    <tr>\n",
       "      <th>20566</th>\n",
       "      <td>kipnj001</td>\n",
       "      <td>172</td>\n",
       "      <td>730</td>\n",
       "      <td>0.235616</td>\n",
       "    </tr>\n",
       "  </tbody>\n",
       "</table>\n",
       "</div>"
      ],
      "text/plain": [
       "        id_code  hits  at_bats  hits_per_at_bat\n",
       "20566  kipnj001   172      730         0.235616"
      ]
     },
     "execution_count": 330,
     "metadata": {},
     "output_type": "execute_result"
    }
   ],
   "source": [
    "good_player_table_two[good_player_table_two[\"id_code\"]==\"kipnj001\"]"
   ]
  },
  {
   "cell_type": "code",
   "execution_count": 333,
   "metadata": {
    "collapsed": false
   },
   "outputs": [
    {
     "data": {
      "text/plain": [
       "<matplotlib.axes._subplots.AxesSubplot at 0x22862e8cc50>"
      ]
     },
     "execution_count": 333,
     "metadata": {},
     "output_type": "execute_result"
    },
    {
     "data": {
      "image/png": "[encoded data removed]",
      "text/plain": [
       "<matplotlib.figure.Figure at 0x22862f99f98>"
      ]
     },
     "metadata": {},
     "output_type": "display_data"
    }
   ],
   "source": [
    "pd.tools.plotting.autocorrelation_plot(good_player_table[good_player_table[\"id_code\"]==\"byrdm001\"][\"sum\"])"
   ]
  },
  {
   "cell_type": "code",
   "execution_count": 335,
   "metadata": {
    "collapsed": false
   },
   "outputs": [],
   "source": [
    "#it appears that streaks of number of hits really do not happen very often for this set of players, but lets\n",
    "#check if it happens when looking at a purely binary measure of whether they got a hit in a game or not\n",
    "\n",
    "good_player_table[\"binary_hit\"] = good_player_table[\"sum\"].map(lambda x: 0 if x == 0 else 1)"
   ]
  },
  {
   "cell_type": "code",
   "execution_count": 337,
   "metadata": {
    "collapsed": false
   },
   "outputs": [
    {
     "name": "stdout",
     "output_type": "stream",
     "text": [
      "gillc002 0.214285714286\n",
      "butlb003 0.213558535991\n",
      "tomay001 0.152173913043\n",
      "suzui001 0.211821079164\n",
      "holtb002 0.181848241863\n",
      "santd001 0.249530956848\n",
      "middw001 0.178947368421\n",
      "davir003 0.159679878049\n",
      "byrdm001 0.216311624303\n",
      "ynoar001 0.167590034767\n",
      "ellsj001 0.155710330082\n",
      "uribj002 0.295752825272\n",
      "parej002 0.179914529915\n",
      "pedrd001 0.304833753394\n",
      "buxtb001 0.278207442037\n",
      "schoj001 0.255862068966\n",
      "joneg002 0.177989130435\n",
      "guyeb001 0.215311004785\n",
      "canor001 0.174856674857\n",
      "darnt001 0.238461538462\n",
      "ramow001 0.192307692308\n",
      "uptob001 0.213454519628\n",
      "polag001 0.173758200562\n",
      "piscs001 0.326086956522\n",
      "bettm001 0.201886792453\n",
      "piera001 0.16875\n",
      "herne001 0.253036349105\n",
      "navad001 0.259677419355\n"
     ]
    }
   ],
   "source": [
    "for i in set(good_player_table[\"id_code\"]):\n",
    "    if(good_player_table[good_player_table[\"id_code\"]==i][\"binary_hit\"].autocorr(lag=1) > .15):\n",
    "        print(i,good_player_table[good_player_table[\"id_code\"]==i][\"binary_hit\"].autocorr(lag=1))"
   ]
  },
  {
   "cell_type": "code",
   "execution_count": 341,
   "metadata": {
    "collapsed": false
   },
   "outputs": [
    {
     "data": {
      "text/plain": [
       "<matplotlib.axes._subplots.AxesSubplot at 0x228630e0390>"
      ]
     },
     "execution_count": 341,
     "metadata": {},
     "output_type": "execute_result"
    },
    {
     "data": {
      "image/png": "[encoded data removed]",
      "text/plain": [
       "<matplotlib.figure.Figure at 0x22862fb4a90>"
      ]
     },
     "metadata": {},
     "output_type": "display_data"
    }
   ],
   "source": [
    "pd.tools.plotting.autocorrelation_plot(good_player_table[good_player_table[\"id_code\"]==\"piscs001\"]\\\n",
    "                                       [\"binary_hit\"])"
   ]
  },
  {
   "cell_type": "code",
   "execution_count": null,
   "metadata": {
    "collapsed": true
   },
   "outputs": [],
   "source": []
  }
 ],
 "metadata": {
  "celltoolbar": "Raw Cell Format",
  "kernelspec": {
   "display_name": "Python 3",
   "language": "python",
   "name": "python3"
  },
  "language_info": {
   "codemirror_mode": {
    "name": "ipython",
    "version": 3
   },
   "file_extension": ".py",
   "mimetype": "text/x-python",
   "name": "python",
   "nbconvert_exporter": "python",
   "pygments_lexer": "ipython3",
   "version": "3.5.1"
  }
 },
 "nbformat": 4,
 "nbformat_minor": 0
}
